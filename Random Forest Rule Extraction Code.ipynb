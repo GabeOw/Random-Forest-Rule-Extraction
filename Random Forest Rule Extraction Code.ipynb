{
 "cells": [
  {
   "cell_type": "markdown",
   "id": "f2f149d2",
   "metadata": {},
   "source": [
    "# Random Forest Rule Extraction"
   ]
  },
  {
   "cell_type": "markdown",
   "id": "5902fd05",
   "metadata": {},
   "source": [
    "## Imports"
   ]
  },
  {
   "cell_type": "code",
   "execution_count": null,
   "id": "d0cc8681",
   "metadata": {},
   "outputs": [],
   "source": [
    "# Importing necessary libraries\n",
    "import numpy as np\n",
    "import pandas as pd\n",
    "from sklearn.tree import _tree, export_text\n",
    "from sklearn.ensemble import RandomForestClassifier"
   ]
  },
  {
   "cell_type": "markdown",
   "id": "9072a125",
   "metadata": {},
   "source": [
    "## (Assumed) Build Random Forest Model\n",
    "Here it is assumed you have a Random Forest Model (named best_rf) pre-built and fitted on the training set"
   ]
  },
  {
   "cell_type": "code",
   "execution_count": null,
   "id": "cfd8a60e",
   "metadata": {},
   "outputs": [],
   "source": [
    "# Fitting the model with the best parameters on the whole training set\n",
    "best_rf = RandomForestClassifier(**best_params)\n",
    "best_rf.fit(X_train, y_train)"
   ]
  },
  {
   "cell_type": "markdown",
   "id": "ad560445",
   "metadata": {},
   "source": [
    "## Store Rules and Visualize the Trees"
   ]
  },
  {
   "cell_type": "code",
   "execution_count": null,
   "id": "1f7e8845",
   "metadata": {},
   "outputs": [],
   "source": [
    "# Initializing an empty list to store rules from decision trees\n",
    "rules = []\n",
    "\n",
    "# Iterating through each decision tree in the random forest\n",
    "for tree in best_rf.estimators_:\n",
    "    # Exporting the structure of the decision tree as text and appending it to the rules list\n",
    "    r = export_text(tree, feature_names=list(X.columns), show_weights=True, max_depth=10)\n",
    "    rules.append(r)\n",
    "\n",
    "# Printing rules of the first 5 decision trees\n",
    "for rule in rules[:5]:\n",
    "    print(rule)"
   ]
  },
  {
   "cell_type": "code",
   "execution_count": 12,
   "id": "bff8b97e",
   "metadata": {
    "code_folding": []
   },
   "outputs": [
    {
     "name": "stdout",
     "output_type": "stream",
     "text": [
      "Random Forest Trees Structure: \n",
      "\n",
      "|--- Feature 1 <= 0.50\n",
      "|   |--- Feature 2 <= 790.61\n",
      "|   |   |--- Feature 3 <= 0.50\n",
      "|   |   |   |--- Feature 4 <= 19.39\n",
      "|   |   |   |   |--- Feature 5 <= 811.19\n",
      "|   |   |   |   |   |--- Feature 6 <= 1.50\n",
      "|   |   |   |   |   |   |--- Feature 7 <= 0.01\n",
      "|   |   |   |   |   |   |   |--- Feature 8 <= 1389.50\n",
      "|   |   |   |   |   |   |   |   |--- Feature 9 <= 0.50\n",
      "|   |   |   |   |   |   |   |   |   |--- Feature 10 <= 6.50\n",
      "|   |   |   |   |   |   |   |   |   |   |--- weights: [5825.00, 39.00] class: 0.0\n",
      "|   |   |   |   |   |   |   |   |   |--- Feature 10 >  6.50\n",
      "|   |   |   |   |   |   |   |   |   |   |--- weights: [2923.00, 80.00] class: 0.0\n",
      "|   |   |   |   |   |   |   |   |--- Feature 9 >  0.50\n",
      "|   |   |   |   |   |   |   |   |   |--- Feature 11 <= 0.50\n",
      "|   |   |   |   |   |   |   |   |   |   |--- weights: [293.00, 27.00] class: 0.0\n",
      "|   |   |   |   |   |   |   |   |   |--- Feature 11 >  0.50\n",
      "|   |   |   |   |   |   |   |   |   |   |--- weights: [191.00, 47.00] class: 0.0\n",
      "|   |   |   |   |   |   |   |--- Feature 8 >  1389.50\n",
      "|   |   |   |   |   |   |   |   |--- Feature 12 <= 112.50\n",
      "|   |   |   |   |   |   |   |   |   |--- Feature 4 <= 8.95\n",
      "|   |   |   |   |   |   |   |   |   |   |--- weights: [18.00, 0.00] class: 0.0\n",
      "|   |   |   |   |   |   |   |   |   |--- Feature 4 >  8.95\n",
      "|   |   |   |   |   |   |   |   |   |   |--- weights: [38.00, 22.00] class: 0.0\n",
      "|   |   |   |   |   |   |   |   |--- Feature 12 >  112.50\n",
      "|   |   |   |   |   |   |   |   |   |--- Feature 13 <= 23.00\n",
      "|   |   |   |   |   |   |   |   |   |   |--- weights: [14.00, 1.00] class: 0.0\n",
      "|   |   |   |   |   |   |   |   |   |--- Feature 13 >  23.00\n",
      "|   |   |   |   |   |   |   |   |   |   |--- weights: [21.00, 0.00] class: 0.0\n",
      "|   |   |   |   |   |   |--- Feature 7 >  0.01\n",
      "|   |   |   |   |   |   |   |--- Feature 9 <= 0.50\n",
      "|   |   |   |   |   |   |   |   |--- Feature 8 <= 1303.50\n",
      "|   |   |   |   |   |   |   |   |   |--- Feature 7 <= 518.46\n",
      "|   |   |   |   |   |   |   |   |   |   |--- weights: [42205.00, 144.00] class: 0.0\n",
      "|   |   |   |   |   |   |   |   |   |--- Feature 7 >  518.46\n",
      "|   |   |   |   |   |   |   |   |   |   |--- weights: [10779.00, 100.00] class: 0.0\n",
      "|   |   |  \n",
      "\n"
     ]
    }
   ],
   "source": [
    "# Example output"
   ]
  },
  {
   "cell_type": "markdown",
   "id": "9036e48a",
   "metadata": {},
   "source": [
    "## Code to Extract Rules from all Random Forest Trees"
   ]
  },
  {
   "cell_type": "code",
   "execution_count": null,
   "id": "95115609",
   "metadata": {
    "code_folding": []
   },
   "outputs": [],
   "source": [
    "# Defining function to extract rules from a decision tree\n",
    "def get_rules(tree, feature_names):\n",
    "    tree_ = tree.tree_  # Getting the underlying tree structure\n",
    "    # Creating a list of feature names, replacing undefined features with a placeholder string\n",
    "    feature_name = [\n",
    "        feature_names[i] if i != _tree.TREE_UNDEFINED else \"undefined!\"\n",
    "        for i in tree_.feature\n",
    "    ]\n",
    "\n",
    "    paths = []  # List to store all the paths (rules) in the tree\n",
    "    path = []  # Temporary list to store the current path\n",
    "\n",
    "    # Recursive function to traverse the tree and collect rules\n",
    "    def recurse(node, path, paths):\n",
    "        # If the node is not a leaf node\n",
    "        if tree_.feature[node] != _tree.TREE_UNDEFINED:\n",
    "            name = feature_name[node]\n",
    "            threshold = tree_.threshold[node]\n",
    "            p1, p2 = list(path), list(path)\n",
    "            p1 += [f\"({name} <= {np.round(threshold, 6)})\"]\n",
    "            recurse(tree_.children_left[node], p1, paths)\n",
    "            p2 += [f\"({name} > {np.round(threshold, 6)})\"]\n",
    "            recurse(tree_.children_right[node], p2, paths)\n",
    "        else:\n",
    "            # If the node is a leaf node, append the current path to paths\n",
    "            path += [(tree_.value[node], np.sum(tree_.value[node]))]\n",
    "            paths += [path]\n",
    "\n",
    "    # Starting the recursive function from the root node\n",
    "    recurse(0, path, paths)\n",
    "\n",
    "    # Sorting the paths based on the number of samples\n",
    "    samples_count = [p[-1][1] for p in paths]\n",
    "    ii = list(np.argsort(samples_count))\n",
    "    paths = [paths[i] for i in reversed(ii)]\n",
    "    \n",
    "    rules = []  # List to store the rules in a formatted way\n",
    "    for path in paths:\n",
    "        rule = \"if \"\n",
    "        \n",
    "        for p in path[:-1]:\n",
    "            if rule != \"if \":\n",
    "                rule += \" and \"\n",
    "            rule += str(p)\n",
    "        \n",
    "        classes = path[-1][0][0]\n",
    "        l = np.argmax(classes)\n",
    "        class_label = l\n",
    "        proba = np.round(100.0*classes[l]/np.sum(classes),2)\n",
    "        samples = path[-1][1]\n",
    "        \n",
    "        # Appending the formatted rule to the rules list\n",
    "        rules.append({\n",
    "            'rule': rule,\n",
    "            'class': class_label,\n",
    "            'samples': samples,\n",
    "            'proba': proba\n",
    "        })\n",
    "        \n",
    "    return rules\n",
    "\n",
    "# Getting feature names from the DataFrame df_train, excluding the target variable column\n",
    "feature_names = df_train.columns[1:]  \n",
    "\n",
    "# Creating an empty list to store the rules from each tree\n",
    "rules_list = []\n",
    "\n",
    "# Iterating through each decision tree in the random forest to collect rules\n",
    "for tree in best_rf.estimators_:\n",
    "    rules = get_rules(tree, feature_names)\n",
    "    rules_list.extend(rules)\n",
    "\n",
    "# Converting the list of dictionaries into a DataFrame\n",
    "rules_df = pd.DataFrame(rules_list)\n",
    "\n",
    "# Renaming columns for better interpretation\n",
    "rules_df.rename(columns={\"rule\": \"Feature Rule\"}, inplace=True)\n",
    "rules_df = rules_df[rules_df[\"class\"] == 1].copy()\n",
    "rules_df.drop(\"class\", axis=1, inplace=True)\n",
    "rules_df.rename(columns={\"samples\": \"Total Samples\"}, inplace=True)\n",
    "rules_df.rename(columns={\"proba\": \"Probability of X\"}, inplace=True)\n",
    "rules_df.reset_index(drop=True, inplace=True)\n",
    "\n",
    "# Displaying the first 5 rows of the rules DataFrame\n",
    "rules_df.head()"
   ]
  },
  {
   "cell_type": "code",
   "execution_count": 7,
   "id": "f3b788bb",
   "metadata": {},
   "outputs": [
    {
     "data": {
      "text/html": [
       "<div>\n",
       "<style scoped>\n",
       "    .dataframe tbody tr th:only-of-type {\n",
       "        vertical-align: middle;\n",
       "    }\n",
       "\n",
       "    .dataframe tbody tr th {\n",
       "        vertical-align: top;\n",
       "    }\n",
       "\n",
       "    .dataframe thead th {\n",
       "        text-align: right;\n",
       "    }\n",
       "</style>\n",
       "<table border=\"1\" class=\"dataframe\">\n",
       "  <thead>\n",
       "    <tr style=\"text-align: right;\">\n",
       "      <th></th>\n",
       "      <th>Feature Rule</th>\n",
       "      <th>Total_Samples</th>\n",
       "      <th>Fraud_Probability</th>\n",
       "    </tr>\n",
       "  </thead>\n",
       "  <tbody>\n",
       "    <tr>\n",
       "      <th>0</th>\n",
       "      <td>(Feature_1 &gt; 0.004) and (Feature_2 &lt;= 250.25) and (Feature_3 &gt; 2.5) and (Feature_4 &lt;= 400.2001) and (Feature_5 &lt;= 0.050) and (Feature_6 &lt;= 1.0) and (Feature_7 &gt; 1.0) and (Feature_8 &lt;= 159.75) and (Feature_1 &gt; 0.07256)</td>\n",
       "      <td>361</td>\n",
       "      <td>0.89845</td>\n",
       "    </tr>\n",
       "    <tr>\n",
       "      <th>1</th>\n",
       "      <td>(Feature_9 &lt;= 1.0) and (Feature_10 &lt;= 391.162491) and (Feature_11 &gt; 1.0) and (Feature_12 &lt;= 41.75)</td>\n",
       "      <td>290</td>\n",
       "      <td>0.79862</td>\n",
       "    </tr>\n",
       "    <tr>\n",
       "      <th>2</th>\n",
       "      <td>(Feature_13 &gt; 5.0) and (Feature_9 &lt;= 1.0) and (Feature_11 &gt; 1.0) and (Feature_14 &gt; 7.0) and (Feature_15 &lt;= 1249.25) and (Feature_16 &gt; 1.0) and (Feature_17 &lt;= 5.0) and (Feature_18 &lt;= 60.0) and (Feature_19 &lt;= 7.0) and (Feature_14 &gt; 17.0)</td>\n",
       "      <td>248</td>\n",
       "      <td>0.79516</td>\n",
       "    </tr>\n",
       "    <tr>\n",
       "      <th>3</th>\n",
       "      <td>(Feature_9 &lt;= 1.0) and (Feature_11 &gt; 1.0) and (Feature_20 &lt;= 16.25) and (Feature_21 &lt;= 881.75) and (Feature_22 &lt;= 3.75) and (Feature_23 &lt;= 179479.3828125) and (Feature_24 &lt;= 103.6275025) and (Feature_25 &gt; 780.0650025)</td>\n",
       "      <td>302</td>\n",
       "      <td>0.78674</td>\n",
       "    </tr>\n",
       "  </tbody>\n",
       "</table>\n",
       "</div>"
      ],
      "text/plain": [
       "                                                                                                                                                                                                                                  Feature Rule  \\\n",
       "0                    (Feature_1 > 0.004) and (Feature_2 <= 250.25) and (Feature_3 > 2.5) and (Feature_4 <= 400.2001) and (Feature_5 <= 0.050) and (Feature_6 <= 1.0) and (Feature_7 > 1.0) and (Feature_8 <= 159.75) and (Feature_1 > 0.07256)   \n",
       "1                                                                                                                                           (Feature_9 <= 1.0) and (Feature_10 <= 391.162491) and (Feature_11 > 1.0) and (Feature_12 <= 41.75)   \n",
       "2  (Feature_13 > 5.0) and (Feature_9 <= 1.0) and (Feature_11 > 1.0) and (Feature_14 > 7.0) and (Feature_15 <= 1249.25) and (Feature_16 > 1.0) and (Feature_17 <= 5.0) and (Feature_18 <= 60.0) and (Feature_19 <= 7.0) and (Feature_14 > 17.0)   \n",
       "3                    (Feature_9 <= 1.0) and (Feature_11 > 1.0) and (Feature_20 <= 16.25) and (Feature_21 <= 881.75) and (Feature_22 <= 3.75) and (Feature_23 <= 179479.3828125) and (Feature_24 <= 103.6275025) and (Feature_25 > 780.0650025)   \n",
       "\n",
       "   Total_Samples  Fraud_Probability  \n",
       "0            361            0.89845  \n",
       "1            290            0.79862  \n",
       "2            248            0.79516  \n",
       "3            302            0.78674  "
      ]
     },
     "execution_count": 7,
     "metadata": {},
     "output_type": "execute_result"
    }
   ],
   "source": [
    "# Example DataFrame output of rules_df"
   ]
  },
  {
   "cell_type": "markdown",
   "id": "e5b784e9",
   "metadata": {},
   "source": [
    "## Print and Export the Rules"
   ]
  },
  {
   "cell_type": "code",
   "execution_count": 9,
   "id": "cfcb359d",
   "metadata": {},
   "outputs": [
    {
     "name": "stdout",
     "output_type": "stream",
     "text": [
      "Feature Rules: \n",
      "\n",
      "(Feature_1 > 0.004) and (Feature_2 <= 250.25) and (Feature_3 > 2.5) and (Feature_4 <= 400.2001) and (Feature_5 <= 0.050) and (Feature_6 <= 1.0) and (Feature_7 > 1.0) and (Feature_8 <= 159.75) and (Feature_1 > 0.07256) \n",
      "\n",
      "(Feature_9 <= 1.0) and (Feature_10 <= 391.162491) and (Feature_11 > 1.0) and (Feature_12 <= 41.75) \n",
      "\n",
      "(Feature_13 > 5.0) and (Feature_9 <= 1.0) and (Feature_11 > 1.0) and (Feature_14 > 7.0) and (Feature_15 <= 1249.25) and (Feature_16 > 1.0) and (Feature_17 <= 5.0) and (Feature_18 <= 60.0) and (Feature_19 <= 7.0) and (Feature_14 > 17.0) \n",
      "\n",
      "(Feature_9 <= 1.0) and (Feature_11 > 1.0) and (Feature_20 <= 16.25) and (Feature_21 <= 881.75) and (Feature_22 <= 3.75) and (Feature_23 <= 179479.3828125) and (Feature_24 <= 103.6275025) and (Feature_25 > 780.0650025) \n",
      "\n"
     ]
    }
   ],
   "source": [
    "# Print best rules\n",
    "print('Feature Rules:', \"\\n\")\n",
    "pd.set_option('display.max_colwidth', None)\n",
    "for item in rules_df['Feature Rule'][0:20]:\n",
    "    print(item, \"\\n\")\n",
    "    \n",
    "# Export best rules\n",
    "rules_df.to_csv('Random Forest Rules.csv', index=False)"
   ]
  }
 ],
 "metadata": {
  "kernelspec": {
   "display_name": "Python 3 (ipykernel)",
   "language": "python",
   "name": "python3"
  },
  "language_info": {
   "codemirror_mode": {
    "name": "ipython",
    "version": 3
   },
   "file_extension": ".py",
   "mimetype": "text/x-python",
   "name": "python",
   "nbconvert_exporter": "python",
   "pygments_lexer": "ipython3",
   "version": "3.10.9"
  }
 },
 "nbformat": 4,
 "nbformat_minor": 5
}
